{
 "cells": [
  {
   "cell_type": "code",
   "execution_count": 32,
   "metadata": {},
   "outputs": [],
   "source": [
    "import pandas as pd\n",
    "import seaborn as sns\n",
    "import matplotlib.pyplot as pyplot\n",
    "import numpy as np,matplotlib.pyplot as plt\n",
    "# from sklearn.linear_model import LinearRegression\n",
    "from sklearn.preprocessing import StandardScaler\n",
    "from sklearn.metrics import confusion_matrix\n",
    "from sklearn.metrics import r2_score\n",
    "from sklearn.metrics import mean_squared_error\n",
    "from sklearn.preprocessing import PolynomialFeatures\n",
    "from sklearn.linear_model import ElasticNet, Lasso, Ridge\n",
    "from sklearn.pipeline import Pipeline\n",
    "from sklearn import linear_model\n",
    "from sklearn.model_selection import cross_val_score\n",
    "from sklearn.linear_model import LogisticRegression\n",
    "from sklearn.model_selection import StratifiedKFold\n",
    "%matplotlib inline"
   ]
  },
  {
   "cell_type": "code",
   "execution_count": 33,
   "metadata": {},
   "outputs": [],
   "source": [
    "data = pd.read_csv(\"PS_20174392719_1491204439457_log.csv\")"
   ]
  },
  {
   "cell_type": "code",
   "execution_count": 34,
   "metadata": {},
   "outputs": [
    {
     "data": {
      "text/html": [
       "<div>\n",
       "<style scoped>\n",
       "    .dataframe tbody tr th:only-of-type {\n",
       "        vertical-align: middle;\n",
       "    }\n",
       "\n",
       "    .dataframe tbody tr th {\n",
       "        vertical-align: top;\n",
       "    }\n",
       "\n",
       "    .dataframe thead th {\n",
       "        text-align: right;\n",
       "    }\n",
       "</style>\n",
       "<table border=\"1\" class=\"dataframe\">\n",
       "  <thead>\n",
       "    <tr style=\"text-align: right;\">\n",
       "      <th></th>\n",
       "      <th>step</th>\n",
       "      <th>type</th>\n",
       "      <th>amount</th>\n",
       "      <th>oldbalanceOrg</th>\n",
       "      <th>newbalanceOrig</th>\n",
       "      <th>oldbalanceDest</th>\n",
       "      <th>newbalanceDest</th>\n",
       "      <th>isFraud</th>\n",
       "      <th>isFlaggedFraud</th>\n",
       "    </tr>\n",
       "  </thead>\n",
       "  <tbody>\n",
       "    <tr>\n",
       "      <th>4647157</th>\n",
       "      <td>330</td>\n",
       "      <td>PAYMENT</td>\n",
       "      <td>21874.19</td>\n",
       "      <td>271341.08</td>\n",
       "      <td>249466.90</td>\n",
       "      <td>0.00</td>\n",
       "      <td>0.00</td>\n",
       "      <td>0</td>\n",
       "      <td>0</td>\n",
       "    </tr>\n",
       "    <tr>\n",
       "      <th>2719938</th>\n",
       "      <td>211</td>\n",
       "      <td>CASH_OUT</td>\n",
       "      <td>48749.97</td>\n",
       "      <td>0.00</td>\n",
       "      <td>0.00</td>\n",
       "      <td>1285692.31</td>\n",
       "      <td>1334442.28</td>\n",
       "      <td>0</td>\n",
       "      <td>0</td>\n",
       "    </tr>\n",
       "    <tr>\n",
       "      <th>6139219</th>\n",
       "      <td>544</td>\n",
       "      <td>CASH_IN</td>\n",
       "      <td>185398.44</td>\n",
       "      <td>7016736.40</td>\n",
       "      <td>7202134.83</td>\n",
       "      <td>2589708.20</td>\n",
       "      <td>2404309.77</td>\n",
       "      <td>0</td>\n",
       "      <td>0</td>\n",
       "    </tr>\n",
       "    <tr>\n",
       "      <th>99811</th>\n",
       "      <td>10</td>\n",
       "      <td>CASH_OUT</td>\n",
       "      <td>127940.27</td>\n",
       "      <td>0.00</td>\n",
       "      <td>0.00</td>\n",
       "      <td>9117.00</td>\n",
       "      <td>137057.28</td>\n",
       "      <td>0</td>\n",
       "      <td>0</td>\n",
       "    </tr>\n",
       "    <tr>\n",
       "      <th>3237805</th>\n",
       "      <td>250</td>\n",
       "      <td>CASH_OUT</td>\n",
       "      <td>147493.10</td>\n",
       "      <td>50364.00</td>\n",
       "      <td>0.00</td>\n",
       "      <td>0.00</td>\n",
       "      <td>147493.10</td>\n",
       "      <td>0</td>\n",
       "      <td>0</td>\n",
       "    </tr>\n",
       "  </tbody>\n",
       "</table>\n",
       "</div>"
      ],
      "text/plain": [
       "         step      type     amount  oldbalanceOrg  newbalanceOrig  \\\n",
       "4647157   330   PAYMENT   21874.19      271341.08       249466.90   \n",
       "2719938   211  CASH_OUT   48749.97           0.00            0.00   \n",
       "6139219   544   CASH_IN  185398.44     7016736.40      7202134.83   \n",
       "99811      10  CASH_OUT  127940.27           0.00            0.00   \n",
       "3237805   250  CASH_OUT  147493.10       50364.00            0.00   \n",
       "\n",
       "         oldbalanceDest  newbalanceDest  isFraud  isFlaggedFraud  \n",
       "4647157            0.00            0.00        0               0  \n",
       "2719938      1285692.31      1334442.28        0               0  \n",
       "6139219      2589708.20      2404309.77        0               0  \n",
       "99811           9117.00       137057.28        0               0  \n",
       "3237805            0.00       147493.10        0               0  "
      ]
     },
     "execution_count": 34,
     "metadata": {},
     "output_type": "execute_result"
    }
   ],
   "source": [
    "data = data.drop([\"nameDest\", \"nameOrig\"] , axis = 1).sample(10000)\n",
    "data.head()"
   ]
  },
  {
   "cell_type": "code",
   "execution_count": 35,
   "metadata": {},
   "outputs": [
    {
     "data": {
      "text/html": [
       "<div>\n",
       "<style scoped>\n",
       "    .dataframe tbody tr th:only-of-type {\n",
       "        vertical-align: middle;\n",
       "    }\n",
       "\n",
       "    .dataframe tbody tr th {\n",
       "        vertical-align: top;\n",
       "    }\n",
       "\n",
       "    .dataframe thead th {\n",
       "        text-align: right;\n",
       "    }\n",
       "</style>\n",
       "<table border=\"1\" class=\"dataframe\">\n",
       "  <thead>\n",
       "    <tr style=\"text-align: right;\">\n",
       "      <th></th>\n",
       "      <th>step</th>\n",
       "      <th>amount</th>\n",
       "      <th>oldbalanceOrg</th>\n",
       "      <th>newbalanceOrig</th>\n",
       "      <th>oldbalanceDest</th>\n",
       "      <th>newbalanceDest</th>\n",
       "      <th>isFraud</th>\n",
       "      <th>isFlaggedFraud</th>\n",
       "      <th>CASH_OUT</th>\n",
       "      <th>DEBIT</th>\n",
       "      <th>PAYMENT</th>\n",
       "      <th>TRANSFER</th>\n",
       "    </tr>\n",
       "  </thead>\n",
       "  <tbody>\n",
       "    <tr>\n",
       "      <th>4647157</th>\n",
       "      <td>330</td>\n",
       "      <td>21874.19</td>\n",
       "      <td>271341.08</td>\n",
       "      <td>249466.90</td>\n",
       "      <td>0.00</td>\n",
       "      <td>0.00</td>\n",
       "      <td>0</td>\n",
       "      <td>0</td>\n",
       "      <td>0</td>\n",
       "      <td>0</td>\n",
       "      <td>1</td>\n",
       "      <td>0</td>\n",
       "    </tr>\n",
       "    <tr>\n",
       "      <th>2719938</th>\n",
       "      <td>211</td>\n",
       "      <td>48749.97</td>\n",
       "      <td>0.00</td>\n",
       "      <td>0.00</td>\n",
       "      <td>1285692.31</td>\n",
       "      <td>1334442.28</td>\n",
       "      <td>0</td>\n",
       "      <td>0</td>\n",
       "      <td>1</td>\n",
       "      <td>0</td>\n",
       "      <td>0</td>\n",
       "      <td>0</td>\n",
       "    </tr>\n",
       "    <tr>\n",
       "      <th>6139219</th>\n",
       "      <td>544</td>\n",
       "      <td>185398.44</td>\n",
       "      <td>7016736.40</td>\n",
       "      <td>7202134.83</td>\n",
       "      <td>2589708.20</td>\n",
       "      <td>2404309.77</td>\n",
       "      <td>0</td>\n",
       "      <td>0</td>\n",
       "      <td>0</td>\n",
       "      <td>0</td>\n",
       "      <td>0</td>\n",
       "      <td>0</td>\n",
       "    </tr>\n",
       "    <tr>\n",
       "      <th>99811</th>\n",
       "      <td>10</td>\n",
       "      <td>127940.27</td>\n",
       "      <td>0.00</td>\n",
       "      <td>0.00</td>\n",
       "      <td>9117.00</td>\n",
       "      <td>137057.28</td>\n",
       "      <td>0</td>\n",
       "      <td>0</td>\n",
       "      <td>1</td>\n",
       "      <td>0</td>\n",
       "      <td>0</td>\n",
       "      <td>0</td>\n",
       "    </tr>\n",
       "    <tr>\n",
       "      <th>3237805</th>\n",
       "      <td>250</td>\n",
       "      <td>147493.10</td>\n",
       "      <td>50364.00</td>\n",
       "      <td>0.00</td>\n",
       "      <td>0.00</td>\n",
       "      <td>147493.10</td>\n",
       "      <td>0</td>\n",
       "      <td>0</td>\n",
       "      <td>1</td>\n",
       "      <td>0</td>\n",
       "      <td>0</td>\n",
       "      <td>0</td>\n",
       "    </tr>\n",
       "  </tbody>\n",
       "</table>\n",
       "</div>"
      ],
      "text/plain": [
       "         step     amount  oldbalanceOrg  newbalanceOrig  oldbalanceDest  \\\n",
       "4647157   330   21874.19      271341.08       249466.90            0.00   \n",
       "2719938   211   48749.97           0.00            0.00      1285692.31   \n",
       "6139219   544  185398.44     7016736.40      7202134.83      2589708.20   \n",
       "99811      10  127940.27           0.00            0.00         9117.00   \n",
       "3237805   250  147493.10       50364.00            0.00            0.00   \n",
       "\n",
       "         newbalanceDest  isFraud  isFlaggedFraud  CASH_OUT  DEBIT  PAYMENT  \\\n",
       "4647157            0.00        0               0         0      0        1   \n",
       "2719938      1334442.28        0               0         1      0        0   \n",
       "6139219      2404309.77        0               0         0      0        0   \n",
       "99811         137057.28        0               0         1      0        0   \n",
       "3237805       147493.10        0               0         1      0        0   \n",
       "\n",
       "         TRANSFER  \n",
       "4647157         0  \n",
       "2719938         0  \n",
       "6139219         0  \n",
       "99811           0  \n",
       "3237805         0  "
      ]
     },
     "execution_count": 35,
     "metadata": {},
     "output_type": "execute_result"
    }
   ],
   "source": [
    "data = pd.concat([data, pd.get_dummies(data['type'],drop_first=True)] , axis = 1).drop([\"type\"], axis = 1)\n",
    "data.head()"
   ]
  },
  {
   "cell_type": "code",
   "execution_count": 36,
   "metadata": {},
   "outputs": [],
   "source": [
    "scaler = StandardScaler()\n",
    "scaler.fit(data.drop('isFraud',axis=1))\n",
    "scaled_data = scaler.transform(data.drop('isFraud',axis=1))"
   ]
  },
  {
   "cell_type": "code",
   "execution_count": 37,
   "metadata": {},
   "outputs": [],
   "source": [
    "from sklearn.model_selection import train_test_split\n",
    "x_train, x_test, y_train, y_test = train_test_split(scaled_data,data['isFraud'],test_size=0.2,train_size=0.8)\n",
    "skf = StratifiedKFold(n_splits=4, shuffle=True, random_state=1)\n",
    "validation_scores = {}\n",
    "for degree in range(1,7,1):\n",
    "  PolyDegree = PolynomialFeatures(degree= degree, include_bias = False, interaction_only = True)\n",
    "  data_new= PolyDegree.fit_transform(x_train)\n",
    "  model= LogisticRegression(penalty = \"none\", max_iter=10000)\n",
    "  validation_score = cross_val_score(model,data_new,y_train, cv=skf, scoring = 'f1').mean()\n",
    "  validation_scores[degree] = validation_score"
   ]
  },
  {
   "cell_type": "code",
   "execution_count": 38,
   "metadata": {},
   "outputs": [
    {
     "name": "stdout",
     "output_type": "stream",
     "text": [
      "{1: 0.55, 2: 0.125, 3: 0.125, 4: 0.0, 5: 0.0, 6: 0.0}\n"
     ]
    }
   ],
   "source": [
    "print(validation_scores)"
   ]
  },
  {
   "cell_type": "code",
   "execution_count": 39,
   "metadata": {},
   "outputs": [
    {
     "name": "stdout",
     "output_type": "stream",
     "text": [
      "Model Accuracy = 99.85000000000001%\n"
     ]
    }
   ],
   "source": [
    "PolyDegree = PolynomialFeatures(degree= 1, include_bias = False, interaction_only = True)\n",
    "data_new= PolyDegree.fit_transform(x_train)\n",
    "x_test_transformed = PolyDegree.fit_transform(x_test)\n",
    "model= LogisticRegression(penalty = \"none\", max_iter=10000)\n",
    "model.fit(data_new, y_train)\n",
    "\n",
    "print(f\"Model Accuracy = {model.score(x_test_transformed, y_test)*100}%\")"
   ]
  },
  {
   "cell_type": "code",
   "execution_count": 50,
   "metadata": {},
   "outputs": [],
   "source": [
    "validation_score_reg = []\n",
    "for lambdda in np.arange(0.0, 20, step=0.1):\n",
    "    if lambdda==0:\n",
    "          Reg= LogisticRegression(penalty = \"l2\", max_iter=5000, C = 1000)\n",
    "          validation_score = cross_val_score(model,data_new,y_train, cv=skf, scoring = 'f1').mean()\n",
    "          validation_score_reg.append(validation_score)\n",
    "    else:\n",
    "          Reg= LogisticRegression(penalty = \"l2\", max_iter=5000, C = 1/lambdda)\n",
    "          validation_score = cross_val_score(model,data_new,y_train, cv=skf, scoring = 'f1').mean()\n",
    "          validation_score_reg.append(validation_score)\n",
    "#   Reg= LogisticRegression(penalty = \"l2\", max_iter=5000, C = 1/lambdda)\n",
    "#   validation_score = cross_val_score(model,data_new,y_train, cv=skf, scoring = 'f1').mean()\n",
    "#   validation_score_reg.append(validation_score)"
   ]
  },
  {
   "cell_type": "code",
   "execution_count": 51,
   "metadata": {},
   "outputs": [
    {
     "data": {
      "image/png": "[encoded data removed]",
      "text/plain": [
       "<Figure size 432x288 with 1 Axes>"
      ]
     },
     "metadata": {
      "needs_background": "light"
     },
     "output_type": "display_data"
    }
   ],
   "source": [
    "plt.plot(np.arange(0.0, 20, step=0.1), validation_score_reg, label=\"cv\")\n",
    "plt.xlabel(\"$\\\\lambda$\", fontsize=14)\n",
    "plt.ylabel(\"f1\", fontsize=14)\n",
    "plt.title(\"Logistic Regression with L2 Regularization\", fontsize=20)\n",
    "plt.legend(fontsize=14)\n",
    "plt.show()"
   ]
  },
  {
   "cell_type": "code",
   "execution_count": null,
   "metadata": {},
   "outputs": [],
   "source": []
  }
 ],
 "metadata": {
  "kernelspec": {
   "display_name": "Python 3",
   "language": "python",
   "name": "python3"
  },
  "language_info": {
   "codemirror_mode": {
    "name": "ipython",
    "version": 3
   },
   "file_extension": ".py",
   "mimetype": "text/x-python",
   "name": "python",
   "nbconvert_exporter": "python",
   "pygments_lexer": "ipython3",
   "version": "3.8.5"
  }
 },
 "nbformat": 4,
 "nbformat_minor": 4
}
